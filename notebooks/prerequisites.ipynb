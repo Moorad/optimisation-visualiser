{
 "cells": [
  {
   "attachments": {},
   "cell_type": "markdown",
   "metadata": {},
   "source": [
    "# Prerequisites"
   ]
  },
  {
   "attachments": {},
   "cell_type": "markdown",
   "metadata": {},
   "source": [
    "Any prerequisits will be defined here"
   ]
  },
  {
   "attachments": {},
   "cell_type": "markdown",
   "metadata": {},
   "source": [
    "Many of the helper functions mentioned here are available in `helpers.py`."
   ]
  },
  {
   "cell_type": "code",
   "execution_count": 1,
   "metadata": {},
   "outputs": [],
   "source": [
    "import helpers"
   ]
  },
  {
   "attachments": {},
   "cell_type": "markdown",
   "metadata": {},
   "source": [
    "All algorithms take a seed as an optional parameter. Numpy will generate the exact random values for a given seed. If a seed is not given it will be random on every run"
   ]
  },
  {
   "attachments": {},
   "cell_type": "markdown",
   "metadata": {},
   "source": [
    "By default ALL algorithms consider the given problem (objective function) to be a minimisation problem. To convert the problem into a maximisation problem please wrap your objective function with `into_maximise()`"
   ]
  },
  {
   "attachments": {},
   "cell_type": "markdown",
   "metadata": {},
   "source": [
    "$$\\max f(x) = \\min -f(x)$$"
   ]
  },
  {
   "attachments": {},
   "cell_type": "markdown",
   "metadata": {},
   "source": [
    "Example\n",
    "\n",
    "Minimising f(x) (the default):\n",
    "```py\n",
    "algorithm_x(f(x))\n",
    "```\n",
    "\n",
    "Maximising f(x):\n",
    "```py\n",
    "algorithm_x(into_maximise(f(x)))\n",
    "```\n",
    "If original value is needed:\n",
    "```py\n",
    "best = algorithm_x(into_maximise(f(x)))\n",
    "into_maximise(best)\n",
    "```"
   ]
  },
  {
   "cell_type": "code",
   "execution_count": 2,
   "metadata": {},
   "outputs": [
    {
     "name": "stdout",
     "output_type": "stream",
     "text": [
      "[2, 3, 4, 5]\n",
      "2\n",
      "5\n"
     ]
    }
   ],
   "source": [
    "def f(x):\n",
    "    return x + 1\n",
    "\n",
    "points = [f(1), f(2), f(3), f(4)]\n",
    "\n",
    "print(points)\n",
    "print(min(points))\n",
    "\n",
    "points = [helpers.into_maximise(f(1)), helpers.into_maximise(f(2)), helpers.into_maximise(f(3)), helpers.into_maximise(f(4))]\n",
    "print(helpers.into_maximise(min(points)))"
   ]
  },
  {
   "attachments": {},
   "cell_type": "markdown",
   "metadata": {},
   "source": [
    "In testing you can use the sphere function (3 dimensional) defined as `sphere_f_3D()` from `helper.py`. Its one of the simpler functions with a pretty easy landscape"
   ]
  },
  {
   "cell_type": "code",
   "execution_count": 5,
   "metadata": {},
   "outputs": [
    {
     "name": "stdout",
     "output_type": "stream",
     "text": [
      "1400\n",
      "0\n"
     ]
    }
   ],
   "source": [
    "print(helpers.sphere_f_3D([10, 20, 30]))\n",
    "\n",
    "print(helpers.sphere_f_3D([0,0,0]))"
   ]
  }
 ],
 "metadata": {
  "kernelspec": {
   "display_name": "Python 3 (ipykernel)",
   "language": "python",
   "name": "python3"
  },
  "language_info": {
   "codemirror_mode": {
    "name": "ipython",
    "version": 3
   },
   "file_extension": ".py",
   "mimetype": "text/x-python",
   "name": "python",
   "nbconvert_exporter": "python",
   "pygments_lexer": "ipython3",
   "version": "3.7.9"
  },
  "orig_nbformat": 4,
  "vscode": {
   "interpreter": {
    "hash": "aee8b7b246df8f9039afb4144a1f6fd8d2ca17a180786b69acc140d282b71a49"
   }
  }
 },
 "nbformat": 4,
 "nbformat_minor": 2
}
