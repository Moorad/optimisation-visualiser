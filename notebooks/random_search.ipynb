{
 "cells": [
  {
   "attachments": {},
   "cell_type": "markdown",
   "metadata": {},
   "source": [
    "# Random Search "
   ]
  },
  {
   "attachments": {},
   "cell_type": "markdown",
   "metadata": {},
   "source": [
    "Hyperparameters:\n",
    "- iter: Number of iterations. Default is 1000\n"
   ]
  },
  {
   "attachments": {},
   "cell_type": "markdown",
   "metadata": {},
   "source": [
    "Random search implementation in python following https://en.wikipedia.org/wiki/Random_search#Algorithm"
   ]
  },
  {
   "attachments": {},
   "cell_type": "markdown",
   "metadata": {},
   "source": [
    "## Imports"
   ]
  },
  {
   "cell_type": "code",
   "execution_count": 1,
   "metadata": {},
   "outputs": [],
   "source": [
    "import helpers\n",
    "import numpy as np"
   ]
  },
  {
   "cell_type": "code",
   "execution_count": 11,
   "metadata": {},
   "outputs": [],
   "source": [
    "def random_search(objective_function, lower, upper, seed=None, iter=1000):\n",
    "    if len(lower) != len(upper):\n",
    "        print(f\"RS: Lower bound and upper bound have different dimensions\")\n",
    "        raise\n",
    "    np.random.seed(seed)\n",
    "    \n",
    "    dimensions = len(lower)\n",
    "    \n",
    "    # Min value from objective function\n",
    "    min_value = np.Inf\n",
    "    # Corresponding parameters for the min_value\n",
    "    min_params = np.zeros(dimensions)\n",
    "    \n",
    "    for k in range(iter):\n",
    "        \n",
    "        values = np.zeros(dimensions)\n",
    "        \n",
    "        for i in range(dimensions):\n",
    "            values[i] = np.random.uniform(lower[i], upper[i])\n",
    "            \n",
    "        computed = objective_function(values)\n",
    "        \n",
    "        if (computed < min_value):\n",
    "            min_value = computed\n",
    "            min_params = values\n",
    "\t\n",
    "    return (min_value, min_params)"
   ]
  },
  {
   "cell_type": "code",
   "execution_count": 16,
   "metadata": {},
   "outputs": [
    {
     "name": "stdout",
     "output_type": "stream",
     "text": [
      "The lowest value found is 0.18868564381882846\n",
      "This is with the values x: [ 0.42910008 -0.0573702  -0.03560091]\n"
     ]
    }
   ],
   "source": [
    "lower = [-5, -5, -5]\n",
    "upper = [5, 5, 5]\n",
    "\n",
    "(best_value, corresponding_params) = random_search(helpers.sphere_f_3D, lower, upper, seed=0, iter=10000)\n",
    "\n",
    "print(\"The lowest value found is\", best_value)\n",
    "print(\"This is with the values x:\", corresponding_params)"
   ]
  }
 ],
 "metadata": {
  "kernelspec": {
   "display_name": "Python 3",
   "language": "python",
   "name": "python3"
  },
  "language_info": {
   "codemirror_mode": {
    "name": "ipython",
    "version": 3
   },
   "file_extension": ".py",
   "mimetype": "text/x-python",
   "name": "python",
   "nbconvert_exporter": "python",
   "pygments_lexer": "ipython3",
   "version": "3.7.9"
  },
  "orig_nbformat": 4,
  "vscode": {
   "interpreter": {
    "hash": "aee8b7b246df8f9039afb4144a1f6fd8d2ca17a180786b69acc140d282b71a49"
   }
  }
 },
 "nbformat": 4,
 "nbformat_minor": 2
}
